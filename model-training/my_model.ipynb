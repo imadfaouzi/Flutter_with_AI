{
 "cells": [
  {
   "cell_type": "code",
   "execution_count": 1,
   "id": "9b9a388e",
   "metadata": {},
   "outputs": [],
   "source": [
    "import pandas as pd\n",
    "import cv2\n",
    "import os"
   ]
  },
  {
   "cell_type": "code",
   "execution_count": 3,
   "id": "15d3a235",
   "metadata": {},
   "outputs": [],
   "source": [
    "images = []\n",
    "labels = []\n",
    "categories = ['sport', 'agriculture']  # Replace with your actual categories\n",
    "\n",
    "for category in categories:  # categories you have like 'sports', 'shopping', etc.\n",
    "    for image in os.listdir(f'{category}'):\n",
    "        img = cv2.imread(f'{category}/{image}')\n",
    "        img = cv2.resize(img, (224, 224))  # Resize if necessary\n",
    "        images.append(img)\n",
    "        labels.append(category)"
   ]
  },
  {
   "cell_type": "code",
   "execution_count": 4,
   "id": "9a6df793",
   "metadata": {},
   "outputs": [
    {
     "name": "stdout",
     "output_type": "stream",
     "text": [
      "WARNING:tensorflow:From C:\\Users\\mamad\\anaconda3\\Lib\\site-packages\\keras\\src\\losses.py:2976: The name tf.losses.sparse_softmax_cross_entropy is deprecated. Please use tf.compat.v1.losses.sparse_softmax_cross_entropy instead.\n",
      "\n",
      "['sport' 'sport' 'sport' ... 'agriculture' 'agriculture' 'agriculture']\n"
     ]
    }
   ],
   "source": [
    "from sklearn.model_selection import train_test_split\n",
    "from tensorflow.keras.utils import to_categorical\n",
    "from sklearn.preprocessing import LabelEncoder\n",
    "import numpy as np\n",
    "\n",
    "labels = np.array(labels)\n",
    "# y = np.argmax(labels, axis=1)\n",
    "print(labels)\n",
    "y= labels"
   ]
  },
  {
   "cell_type": "code",
   "execution_count": 5,
   "id": "46c1f20a",
   "metadata": {},
   "outputs": [],
   "source": [
    "label_encoder = LabelEncoder()\n",
    "y = label_encoder.fit_transform(y)\n",
    "y = to_categorical(y)\n",
    "\n",
    "# Normalize image vectors\n",
    "images = np.array(images) / 255.0\n",
    "\n",
    "# Split the data\n",
    "X_train, X_test, y_train, y_test = train_test_split(images, y, test_size=0.2)\n",
    "\n"
   ]
  },
  {
   "cell_type": "code",
   "execution_count": 6,
   "id": "881587a5",
   "metadata": {},
   "outputs": [],
   "source": [
    "from tensorflow.keras.models import Sequential\n",
    "from tensorflow.keras.layers import Conv2D, MaxPooling2D\n",
    "from tensorflow.keras.layers import Activation, Dropout, Flatten, Dense"
   ]
  },
  {
   "cell_type": "code",
   "execution_count": 7,
   "id": "a3492514",
   "metadata": {},
   "outputs": [
    {
     "name": "stdout",
     "output_type": "stream",
     "text": [
      "WARNING:tensorflow:From C:\\Users\\mamad\\anaconda3\\Lib\\site-packages\\keras\\src\\backend.py:873: The name tf.get_default_graph is deprecated. Please use tf.compat.v1.get_default_graph instead.\n",
      "\n",
      "WARNING:tensorflow:From C:\\Users\\mamad\\anaconda3\\Lib\\site-packages\\keras\\src\\layers\\pooling\\max_pooling2d.py:161: The name tf.nn.max_pool is deprecated. Please use tf.nn.max_pool2d instead.\n",
      "\n",
      "WARNING:tensorflow:From C:\\Users\\mamad\\anaconda3\\Lib\\site-packages\\keras\\src\\optimizers\\__init__.py:309: The name tf.train.Optimizer is deprecated. Please use tf.compat.v1.train.Optimizer instead.\n",
      "\n"
     ]
    }
   ],
   "source": [
    "\n",
    "model = Sequential()\n",
    "model.add(Conv2D(32, (3, 3), input_shape=(224, 224, 3)))\n",
    "model.add(Activation('relu'))\n",
    "model.add(MaxPooling2D(pool_size=(2, 2)))\n",
    "\n",
    "# Add more layers as necessary\n",
    "\n",
    "model.add(Flatten())  # Flatten before dense layers\n",
    "model.add(Dense(64))\n",
    "model.add(Activation('relu'))\n",
    "model.add(Dropout(0.5))\n",
    "model.add(Dense(len(categories)))  # Output layer: one per category\n",
    "model.add(Activation('softmax'))\n",
    "\n",
    "model.compile(loss='categorical_crossentropy',\n",
    "              optimizer='adam',\n",
    "              metrics=['accuracy'])\n"
   ]
  },
  {
   "cell_type": "code",
   "execution_count": 8,
   "id": "fe4b5923",
   "metadata": {
    "scrolled": true
   },
   "outputs": [
    {
     "name": "stdout",
     "output_type": "stream",
     "text": [
      "Epoch 1/10\n",
      "WARNING:tensorflow:From C:\\Users\\mamad\\anaconda3\\Lib\\site-packages\\keras\\src\\utils\\tf_utils.py:492: The name tf.ragged.RaggedTensorValue is deprecated. Please use tf.compat.v1.ragged.RaggedTensorValue instead.\n",
      "\n",
      "WARNING:tensorflow:From C:\\Users\\mamad\\anaconda3\\Lib\\site-packages\\keras\\src\\engine\\base_layer_utils.py:384: The name tf.executing_eagerly_outside_functions is deprecated. Please use tf.compat.v1.executing_eagerly_outside_functions instead.\n",
      "\n",
      "25/25 [==============================] - 17s 611ms/step - loss: 2.4330 - accuracy: 0.7711 - val_loss: 0.4621 - val_accuracy: 0.7558\n",
      "Epoch 2/10\n",
      "25/25 [==============================] - 14s 560ms/step - loss: 0.2659 - accuracy: 0.9142 - val_loss: 0.2254 - val_accuracy: 0.8837\n",
      "Epoch 3/10\n",
      "25/25 [==============================] - 14s 565ms/step - loss: 0.1956 - accuracy: 0.9272 - val_loss: 0.0967 - val_accuracy: 0.9419\n",
      "Epoch 4/10\n",
      "25/25 [==============================] - 14s 556ms/step - loss: 0.1097 - accuracy: 0.9597 - val_loss: 0.0805 - val_accuracy: 0.9651\n",
      "Epoch 5/10\n",
      "25/25 [==============================] - 14s 570ms/step - loss: 0.1033 - accuracy: 0.9584 - val_loss: 0.1182 - val_accuracy: 0.9884\n",
      "Epoch 6/10\n",
      "25/25 [==============================] - 14s 572ms/step - loss: 0.0866 - accuracy: 0.9727 - val_loss: 0.0838 - val_accuracy: 0.9651\n",
      "Epoch 7/10\n",
      "25/25 [==============================] - 14s 579ms/step - loss: 0.0681 - accuracy: 0.9753 - val_loss: 0.0789 - val_accuracy: 0.9884\n",
      "Epoch 8/10\n",
      "25/25 [==============================] - 14s 577ms/step - loss: 0.0551 - accuracy: 0.9883 - val_loss: 0.0677 - val_accuracy: 0.9767\n",
      "Epoch 9/10\n",
      "25/25 [==============================] - 14s 576ms/step - loss: 0.0443 - accuracy: 0.9883 - val_loss: 0.0983 - val_accuracy: 0.9884\n",
      "Epoch 10/10\n",
      "25/25 [==============================] - 15s 583ms/step - loss: 0.0382 - accuracy: 0.9909 - val_loss: 0.0512 - val_accuracy: 0.9884\n"
     ]
    },
    {
     "data": {
      "text/plain": [
       "<keras.src.callbacks.History at 0x210b7cdce50>"
      ]
     },
     "execution_count": 8,
     "metadata": {},
     "output_type": "execute_result"
    }
   ],
   "source": [
    "model.fit(X_train, y_train, batch_size=32, epochs=10, validation_split=0.1)\n"
   ]
  },
  {
   "cell_type": "code",
   "execution_count": 9,
   "id": "92eca003",
   "metadata": {},
   "outputs": [
    {
     "name": "stdout",
     "output_type": "stream",
     "text": [
      "7/7 [==============================] - 1s 87ms/step - loss: 0.0061 - accuracy: 1.0000\n"
     ]
    },
    {
     "data": {
      "text/plain": [
       "[0.006072469986975193, 1.0]"
      ]
     },
     "execution_count": 9,
     "metadata": {},
     "output_type": "execute_result"
    }
   ],
   "source": [
    "model.evaluate(X_test, y_test)\n"
   ]
  },
  {
   "cell_type": "code",
   "execution_count": 10,
   "id": "1118c2c7",
   "metadata": {},
   "outputs": [],
   "source": [
    "import requests\n",
    "\n",
    "def predict_image(image_path):\n",
    "    img = cv2.imread(image_path)\n",
    "    img = cv2.resize(img, (224, 224)) / 255.0\n",
    "    prediction = model.predict(np.array([img]))\n",
    "    return label_encoder.inverse_transform([np.argmax(prediction)])[0]\n",
    "\n",
    "def predict_image_from_url(image_url):\n",
    "    response = requests.get(image_url)\n",
    "    if response.status_code == 200:\n",
    "        image_data = np.frombuffer(response.content, dtype=np.uint8)\n",
    "        img = cv2.imdecode(image_data, cv2.IMREAD_COLOR)\n",
    "        if img is not None:\n",
    "            img = cv2.resize(img, (224, 224)) / 255.0\n",
    "            prediction = model.predict(np.array([img]))\n",
    "            return label_encoder.inverse_transform([np.argmax(prediction)])[0]\n",
    "        else:\n",
    "            return \"Failed to decode image\"\n",
    "    else:\n",
    "        return \"Failed to download image\"\n",
    "\n",
    "# predict_image_from_url('https://location-voitures-essaouira.com/wp-content/uploads/2015/05/location-voitures-essaouira-rent-car-essaouira%20(2).png')"
   ]
  },
  {
   "cell_type": "code",
   "execution_count": 14,
   "id": "3afbf698",
   "metadata": {},
   "outputs": [
    {
     "name": "stdout",
     "output_type": "stream",
     "text": [
      "1/1 [==============================] - 0s 29ms/step\n"
     ]
    },
    {
     "data": {
      "text/plain": [
       "'sport'"
      ]
     },
     "execution_count": 14,
     "metadata": {},
     "output_type": "execute_result"
    }
   ],
   "source": [
    "predict_image('./sport/sailboat racing_042.jpg')\n",
    "#TEST ------------------------------------------------\n",
    "#predict_image(\"./agriculture/sugarcane036a.jpeg\")"
   ]
  },
  {
   "cell_type": "code",
   "execution_count": 15,
   "id": "ecbec359",
   "metadata": {},
   "outputs": [
    {
     "name": "stderr",
     "output_type": "stream",
     "text": [
      "C:\\Users\\mamad\\anaconda3\\Lib\\site-packages\\keras\\src\\engine\\training.py:3103: UserWarning: You are saving your model as an HDF5 file via `model.save()`. This file format is considered legacy. We recommend using instead the native Keras format, e.g. `model.save('my_model.keras')`.\n",
      "  saving_api.save_model(\n"
     ]
    }
   ],
   "source": [
    "# import matplotlib. pyplot as plt\n",
    "# plt.scatter(y_test,y_pred)\n",
    "# plt.grid\n",
    "\n",
    "\n",
    "# Assuming 'model' is your trained Keras model\n",
    "model.save('my_model.h5')\n"
   ]
  },
  {
   "cell_type": "code",
   "execution_count": 35,
   "id": "6fdb9c4e",
   "metadata": {},
   "outputs": [
    {
     "name": "stdout",
     "output_type": "stream",
     "text": [
      "1/1 [==============================] - 1s 619ms/step\n"
     ]
    },
    {
     "data": {
      "text/plain": [
       "'agriculture'"
      ]
     },
     "execution_count": 35,
     "metadata": {},
     "output_type": "execute_result"
    }
   ],
   "source": []
  },
  {
   "cell_type": "code",
   "execution_count": 22,
   "id": "edbd47a9",
   "metadata": {},
   "outputs": [
    {
     "name": "stdout",
     "output_type": "stream",
     "text": [
      "['sport' 'driving']\n"
     ]
    }
   ],
   "source": [
    "import numpy as np\n",
    "classes = np.load('classes.npy')\n",
    "print(classes)\n"
   ]
  },
  {
   "cell_type": "code",
   "execution_count": 23,
   "id": "58bdf4c7",
   "metadata": {},
   "outputs": [],
   "source": [
    "import numpy as np\n",
    "\n",
    "# List of class names\n",
    "classes = ['sport', 'agriculture']\n",
    "\n",
    "# Save this array to a .npy file\n",
    "np.save('classes.npy', classes)"
   ]
  },
  {
   "cell_type": "code",
   "execution_count": null,
   "id": "ba952f82",
   "metadata": {},
   "outputs": [],
   "source": []
  }
 ],
 "metadata": {
  "kernelspec": {
   "display_name": "Python 3 (ipykernel)",
   "language": "python",
   "name": "python3"
  },
  "language_info": {
   "codemirror_mode": {
    "name": "ipython",
    "version": 3
   },
   "file_extension": ".py",
   "mimetype": "text/x-python",
   "name": "python",
   "nbconvert_exporter": "python",
   "pygments_lexer": "ipython3",
   "version": "3.11.5"
  }
 },
 "nbformat": 4,
 "nbformat_minor": 5
}
